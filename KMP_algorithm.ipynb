{
 "cells": [
  {
   "cell_type": "markdown",
   "id": "598226c3",
   "metadata": {},
   "source": [
    "**Luca Procaccio**\n",
    "\n",
    "**Politecnico di Milano**\n",
    "\n",
    "**Codice persona: 10808417** \n",
    "\n",
    "**E-mail: luca.procaccio@mail.polimi.it**"
   ]
  },
  {
   "cell_type": "markdown",
   "id": "69cd160c",
   "metadata": {},
   "source": [
    "# Knuth Morris Pratt algorithm"
   ]
  },
  {
   "cell_type": "markdown",
   "id": "6e0843d7",
   "metadata": {},
   "source": [
    "## Introduction\n",
    "\n",
    "In string computation, the exact pattern matching problem is the problem of finding all the occurences of a pattern (string) P, in a text (string) S, where usually P is much shorter than S. \n",
    "\n",
    "For example the pattern could be the world “stella” and the text the whole Divina Commedia, or P can be the CCATTGTG motif and the text the human genome. \n",
    "\n",
    "One strategy to speed up the computation is to create an index on the pattern P and use this index to scan the text S in a more efficient way.\n",
    "\n",
    "The Knuth-Morris-Pratt algorithm uses this approach. It searches for occurrences of a \"word\" W within a main \"text string\" S by employing the observation that when a mismatch occurs, the word itself embodies sufficient information to determine where the next match could begin, thus bypassing re-examination of previously matched characters."
   ]
  },
  {
   "cell_type": "markdown",
   "id": "69f5aec6",
   "metadata": {},
   "source": [
    "## Kmp table"
   ]
  },
  {
   "cell_type": "markdown",
   "id": "78ead62a",
   "metadata": {},
   "source": [
    "The goal of the table is to allow the algorithm not to match any character of text more than once. This function takes the pattern as an input and returns a matching table in the form of an array that contains, for each position, the lengths of longest proper prefix that is also a suffix. Hence, pattern is used to give the count of characters that can be skipped while matching with the main text."
   ]
  },
  {
   "cell_type": "code",
   "execution_count": 1,
   "id": "f1964759",
   "metadata": {},
   "outputs": [],
   "source": [
    "import numpy as np"
   ]
  },
  {
   "cell_type": "code",
   "execution_count": 2,
   "id": "5716a8eb",
   "metadata": {},
   "outputs": [],
   "source": [
    "def kmp_table(pattern):\n",
    "    \n",
    "    # This if statement is partially redundant with the first one in kmp_search function.\n",
    "    # Anyway, I've decided to keep it in case one want to use only the kmp_table function.\n",
    "    \n",
    "    if isinstance(pattern, str) == False:\n",
    "        raise TypeError(\"the object's type must be: string\")\n",
    "        return\n",
    "    \n",
    "    # The table to be filled is created. It's an array of integers, 1 position longer than the pattern.\n",
    "    table = np.empty((len(pattern) + 1), dtype = np.int32)\n",
    "    \n",
    "    pos = 1  # The current position we are computing in table.\n",
    "    cnd = 0  # The zero-based index in the next character of the current candidate substring.\n",
    "             \n",
    "    table[0] = -1 # Initialization of the first element.\n",
    "    \n",
    "    while pos < len(pattern):\n",
    "        if pattern[pos] == pattern[cnd]:\n",
    "            table[pos] = table[cnd]\n",
    "        else:\n",
    "            table[pos] = cnd\n",
    "            while cnd >= 0 and pattern[pos] != pattern[cnd]:\n",
    "                cnd = table[cnd]\n",
    "        pos = pos + 1\n",
    "        cnd = cnd + 1\n",
    "    \n",
    "    table[len(pattern)] = cnd\n",
    "    \n",
    "    return table      "
   ]
  },
  {
   "cell_type": "markdown",
   "id": "e8a7c13c",
   "metadata": {},
   "source": [
    "**Kmp_table complexity**\n",
    "\n",
    "The time (and space) complexity of the table algorithm is O(k), where k is the length of pattern.\n",
    "\n",
    "* The outer loop: pos is initialized to 1, the loop condition is pos < k, and pos is increased by 1 in every iteration of the loop. Thus the loop will take k - 1 iterations.\n",
    "\n",
    "* The inner loop: cnd is initialized to 0 and gets increased by at most 1 in each outer loop iteration. T[cnd] is always less than cnd, so cnd gets decreased by at least 1 in each inner loop iteration; the inner loop condition is cnd ≥ 0. This means that the inner loop can execute at most as many times in total, as the outer loop has executed – each decrease of cnd by 1 in the inner loop needs to have a corresponding increase by 1 in the outer loop. Since the outer loop takes k - 1 iterations, the inner loop can take no more than k - 1 iterations in total.\n",
    "\n",
    "Combined, the outer and inner loops take at most 2k - k  iterations. This corresponds to O(k) time complexity."
   ]
  },
  {
   "cell_type": "markdown",
   "id": "ffce0e37",
   "metadata": {},
   "source": [
    "## Kmp search"
   ]
  },
  {
   "cell_type": "markdown",
   "id": "0d40b41f",
   "metadata": {},
   "source": [
    "At any given time, the algorithm is in a state determined by two integers:\n",
    "\n",
    "* m, denoting the position within S(text) where the prospective match for P(pattern) begins,\n",
    "* i, denoting the index of the currently considered character in P.\n",
    "\n",
    "In each step the algorithm compares S\\[ m+i \\] with W\\[ i \\] and increments i if they are equal. If there is a mismatch, although the next possible match should begin at index m + i - T\\[ i \\], it is not needed actually to check any of the T\\[ i \\] characters after that, due to the previous iteration, so we continue searching from W\\[ T [ i \\] \\] and S\\[ i \\]."
   ]
  },
  {
   "cell_type": "markdown",
   "id": "f8004872",
   "metadata": {},
   "source": [
    "Here I define the kmp search algorithm."
   ]
  },
  {
   "cell_type": "code",
   "execution_count": 3,
   "id": "8c017078",
   "metadata": {},
   "outputs": [],
   "source": [
    "def kmp_search(text, pattern):\n",
    "    \n",
    "    # Raise an error if one of the two inputs it's not a string.\n",
    "    if isinstance(text,str) == False or isinstance(pattern,str) == False:\n",
    "        raise TypeError(\"Only strings!\")\n",
    "        return\n",
    "    \n",
    "    # Raise an error if the pattern is longer than text.\n",
    "    if len(pattern) > len(text):\n",
    "        raise TypeError(\"Pattern longer than text\")\n",
    "        return\n",
    "    \n",
    "    # Return an empty list in case of empty pattern.\n",
    "    if not pattern:\n",
    "        return []\n",
    "    \n",
    "    P = [] # List of positions in text at which pattern is found.\n",
    "    nP = 0 # Number of positions in text at which pattern is found.\n",
    "    \n",
    "    j = 0 # Position of the current character in text.\n",
    "    k = 0 # Position of the current character in pattern.\n",
    "    \n",
    "    table = kmp_table(pattern) # Partial match table.\n",
    "    \n",
    "    while j < len(text):\n",
    "        if pattern[k] == text[j]:\n",
    "            j = j + 1\n",
    "            k = k + 1\n",
    "            if k == len(pattern):\n",
    "                P.append(j-k) \n",
    "                nP = nP + 1\n",
    "                k = table[k]\n",
    "        else:\n",
    "            k = table[k]\n",
    "            if k < 0:\n",
    "                j = j + 1\n",
    "                k = k + 1\n",
    "    \n",
    "    return P, nP                              "
   ]
  },
  {
   "cell_type": "markdown",
   "id": "6f0ce115",
   "metadata": {},
   "source": [
    "An example of the algorithm working."
   ]
  },
  {
   "cell_type": "code",
   "execution_count": 4,
   "id": "ea2f93ff",
   "metadata": {},
   "outputs": [
    {
     "name": "stdout",
     "output_type": "stream",
     "text": [
      "Text : \"ATAGGCTATCATCCCTATC\"\n",
      "Pattern: \"ATC\"\n",
      "Found matches at positions : ([7, 10, 16], 3)\n"
     ]
    }
   ],
   "source": [
    "pattern = 'ATC'\n",
    "text = 'ATAGGCTATCATCCCTATC'\n",
    "\n",
    "print('Text : \"{}\"\\nPattern: \"{}\"\\nFound matches at positions : {}'\n",
    "      .format(text,pattern,kmp_search(text,pattern)))"
   ]
  },
  {
   "cell_type": "markdown",
   "id": "9a9151bf",
   "metadata": {},
   "source": [
    "**Kmp_search complexity**\n",
    "\n",
    "Assuming the prior existence of the table T, the search portion of the Knuth–Morris–Pratt algorithm has complexity O(n), where n is the length of S(text). All the computations are performed in the while loop and since at each iteration it executes one of the two branches, the loop can execute at most 2n times.\n",
    "\n",
    "The first branch invariably increases i and does not change m, so that the index m + i of the currently scrutinized character of S is increased. The second branch adds i - T\\[i \\] to m this is always a positive number because the next possible match must occur at a higher index than m, so that index\\[ i \\] < i. Thus the location m of the beginning of the current potential match is increased. At the same time, the second branch leaves m + i unchanged, for m gets i - T\\[ i \\] added to it, and immediately after T\\[ i \\] gets assigned as the new value of i. \n",
    "\n",
    "Now, the loop ends if m + i = n; therefore, each branch of the loop can be reached at most n times, since they respectively increase either m + i or m, and m ≤ m + i: if m = n, then certainly m + i ≥ n, so that since it increases by unit increments at most, we must have had m + i = n at some point in the past, and therefore either way we would be done.\n",
    "\n",
    "The time complexity is O(n)."
   ]
  },
  {
   "cell_type": "markdown",
   "id": "f5bac473",
   "metadata": {},
   "source": [
    "**KMP algorithm total complexity**\n",
    "\n",
    "Since the two portions of the algorithm have, respectively, complexities of O(k) and O(n), the complexity of the overall algorithm is O(n + k)."
   ]
  },
  {
   "cell_type": "markdown",
   "id": "9a05ee2f",
   "metadata": {},
   "source": [
    "# Unit testing"
   ]
  },
  {
   "cell_type": "markdown",
   "id": "ffc1dfbe",
   "metadata": {},
   "source": [
    "Unit Testing is a software testing technique by means of which individual units of software i.e. group of computer program modules, usage procedures and operating procedures are tested to determine whether they are suitable for use or not. It is correlated with functional correctness of the independent modules."
   ]
  },
  {
   "cell_type": "code",
   "execution_count": 5,
   "id": "dbe40138",
   "metadata": {},
   "outputs": [],
   "source": [
    "import unittest"
   ]
  },
  {
   "cell_type": "markdown",
   "id": "bbbf7bf2",
   "metadata": {},
   "source": [
    "**Tests for kmp_table function**"
   ]
  },
  {
   "cell_type": "code",
   "execution_count": 9,
   "id": "1c3aad0a",
   "metadata": {},
   "outputs": [],
   "source": [
    "class TestKmpTable(unittest.TestCase):\n",
    "    \n",
    "    # Error if pattern is not a string.\n",
    "    def test_PnotString(self):\n",
    "        self.assertRaises(TypeError, kmp_table, 123)\n",
    "        \n",
    "    # Standard.\n",
    "    def test_standard(self):\n",
    "        self.assertTrue((kmp_table('ACGACG') == np.array([-1, 0, 0, -1, 0, 0, 3], dtype = np.int32)).all())\n",
    "        \n",
    "    # Empty pattern as input.\n",
    "    def test_emptyPattern(self):\n",
    "        self.assertTrue((kmp_table('') == np.array([0], dtype = np.int32)).all())"
   ]
  },
  {
   "cell_type": "markdown",
   "id": "6b35107b",
   "metadata": {},
   "source": [
    "**Tests for kmp_search function**"
   ]
  },
  {
   "cell_type": "code",
   "execution_count": 10,
   "id": "b133f8bc",
   "metadata": {},
   "outputs": [],
   "source": [
    "class TestKmpSearch(unittest.TestCase):\n",
    "    \n",
    "    # Error if pattern is not a string.\n",
    "    def test_PnotString(self):\n",
    "        pattern = 12\n",
    "        text = 'ACGTGATCGATG'\n",
    "        self.assertRaises(TypeError, kmp_search, (text, pattern))\n",
    "    \n",
    "    # Error if text is not a string.\n",
    "    def test_TnotString(self):\n",
    "        pattern = 'ATT'\n",
    "        text = 123\n",
    "        self.assertRaises(TypeError, kmp_search, (text,pattern))\n",
    "    \n",
    "    # Standard.\n",
    "    def test_standard(self):\n",
    "        pattern = 'AAA'\n",
    "        text = 'AAA AAACGAAAG'\n",
    "        self.assertEqual(kmp_search(text, pattern), ([0, 4, 9], 3))\n",
    "        \n",
    "    # No matches.\n",
    "    def test_zeroMatches(self):\n",
    "        pattern = 'AAA'\n",
    "        text = 'GGTGTGTG'\n",
    "        self.assertEqual(kmp_search(text,pattern), ([], 0))\n",
    "        \n",
    "    # Empty pattern as input.\n",
    "    def test_emptyPattern(self):\n",
    "        pattern = ''\n",
    "        text = 'GGGACGAGCGGG'\n",
    "        self.assertEqual(kmp_search(text, pattern), [])\n",
    "    \n",
    "    # Empty text as input.\n",
    "    def test_emptyText(self):\n",
    "        pattern = 'CCG'\n",
    "        text = ''\n",
    "        self.assertRaises(TypeError, kmp_search, (text,pattern))\n",
    "        \n",
    "    # Pattern longer than text.\n",
    "    def test_longerPattern(self):\n",
    "        pattern = 'ACGTGATCGATCGAG'\n",
    "        text = 'ACGGAG'\n",
    "        self.assertRaises(TypeError, kmp_search, (text, pattern))"
   ]
  },
  {
   "cell_type": "markdown",
   "id": "3f6996b8",
   "metadata": {},
   "source": [
    "We have to put some specifications in unittest.main(), otherwise the output would give an error.\n",
    "The reason is that unittest.main looks at sys.argv and first parameter is what started Jupyter, therefore the error about kernel connection file not being a valid attribute. Passing explicit list to unittest.main will prevent Jupyter to look at sys.argv. Passing exit=False will prevent unittest.main to shutdown the kernel process."
   ]
  },
  {
   "cell_type": "code",
   "execution_count": 11,
   "id": "039b1389",
   "metadata": {
    "scrolled": false
   },
   "outputs": [
    {
     "name": "stderr",
     "output_type": "stream",
     "text": [
      "..........\n",
      "----------------------------------------------------------------------\n",
      "Ran 10 tests in 0.006s\n",
      "\n",
      "OK\n"
     ]
    }
   ],
   "source": [
    "if __name__ == '__main__':\n",
    "    unittest.main(argv=['first-arg-is-ignored'], exit=False)"
   ]
  },
  {
   "cell_type": "markdown",
   "id": "c3db5c9e",
   "metadata": {},
   "source": [
    "# References"
   ]
  },
  {
   "cell_type": "markdown",
   "id": "7dfada02",
   "metadata": {},
   "source": [
    "### KMP algorithm\n",
    "\n",
    "https://en.wikipedia.org/wiki/Knuth–Morris–Pratt_algorithm\n",
    "\n",
    "https://www.codesdope.com/blog/article/kmp-algorithm/\n",
    "\n",
    "\n",
    "### Unit testing\n",
    "\n",
    "https://medium.com/@vladbezden/using-python-unittest-in-ipython-or-jupyter-732448724e31\n",
    "\n",
    "https://www.geeksforgeeks.org/unit-testing-software-testing/\n",
    "\n",
    "https://docs.python.org/3/library/unittest.html"
   ]
  }
 ],
 "metadata": {
  "kernelspec": {
   "display_name": "Python 3",
   "language": "python",
   "name": "python3"
  },
  "language_info": {
   "codemirror_mode": {
    "name": "ipython",
    "version": 3
   },
   "file_extension": ".py",
   "mimetype": "text/x-python",
   "name": "python",
   "nbconvert_exporter": "python",
   "pygments_lexer": "ipython3",
   "version": "3.8.8"
  }
 },
 "nbformat": 4,
 "nbformat_minor": 5
}
